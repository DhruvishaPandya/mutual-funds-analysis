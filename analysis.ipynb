{
 "cells": [
  {
   "cell_type": "markdown",
   "metadata": {},
   "source": [
    "# Analysis on mutual funds"
   ]
  },
  {
   "cell_type": "markdown",
   "metadata": {},
   "source": [
    "**Details**\n",
    "\n",
    "- Name : Dhruvisha Pandya(12), Dhwani Haridwari(15), Niharika Singh(39)\n",
    "- Branch : Data Management & Visual Insight\n",
    "- Degree : Bachelors of science\n",
    "- Sem : Semester 5\n",
    "\n"
   ]
  },
  {
   "cell_type": "markdown",
   "metadata": {},
   "source": [
    "**Abstract**\n",
    "\n",
    "- Mutual funds give small or individual investors access to diversified, professionally managed portfolios. Mutual funds are divided into several kinds of categories, representing the kinds of securities they invest in, their investment objectives, and the type of returns they seek.\n",
    "- This \"Analysis of Mutual Funds from Different Companies\" project aims to provide valuable insights into the performance associated with mutual funds offered by various investment companies.\n",
    "- This project focuses on conducting an in-depth analysis of mutual funds offered by different companies to understand difference between different companies' mutual funds.\n",
    "\n"
   ]
  },
  {
   "cell_type": "markdown",
   "metadata": {},
   "source": [
    "**Project Overview**\n",
    "- The project will involve the following key steps:\n",
    "\n",
    "- Data Collection: Gather historical data of mutual funds from different companies. This data includes monthly performance of mutual funds. This data can be obtained from financial data providers, such as Bloomberg, Morningstar, Yahoo Finance, etc.\n",
    "\n",
    "- Data Preprocessing: Clean and preprocess the collected data to ensure consistency and accuracy. Handle missing data, standardize formats, and align data points for meaningful comparisons.\n",
    "\n",
    "- Performance Analysis: Calculate and analyze performance metrics such as average annual returns, volatility, Sharpe ratio, and benchmark comparisons. This analysis will provide insights into how well each mutual fund has performed over time.\n",
    "\n",
    "- Visualization: Create visual representations such as charts and graphs to present the findings effectively. Visualizations could include performance trends, risk profiles, portfolio compositions, and benchmark comparisons.\n",
    "\n",
    "-Conclusion and Recommendations: Summarize the findings and provide insights into the strengths and weaknesses of mutual funds from different companies. Offer recommendations based on the analysis to guide investors in their decision-making process.\n",
    "\n",
    "**Expected Outcomes**\n",
    "- The project will provide investors with a comprehensive analysis of mutual funds offered by different companies. This analysis will enable investors to compare and contrast various funds based on performance. The project's outcomes can be used as a valuable resource for investors looking to diversify their investment portfolios through mutual funds."
   ]
  },
  {
   "cell_type": "markdown",
   "metadata": {},
   "source": [
    "**Information about attributes**\n",
    "\n",
    "- Month\n",
    "- Net Asset Values of mutual funds\n",
    "- returns of nav"
   ]
  },
  {
   "cell_type": "code",
   "execution_count": 2,
   "metadata": {},
   "outputs": [],
   "source": [
    "import pandas as pd\n",
    "import numpy as np\n",
    "import seaborn as sb\n",
    "import matplotlib.pyplot as plt"
   ]
  },
  {
   "cell_type": "markdown",
   "metadata": {},
   "source": [
    "- importing libraries"
   ]
  },
  {
   "cell_type": "code",
   "execution_count": 3,
   "metadata": {},
   "outputs": [
    {
     "data": {
      "text/plain": [
       "['AXIS.', 'HDFC.', 'ICICI.', 'SBI.', 'BOI.', 'SUMMARY', 'Sheet1']"
      ]
     },
     "execution_count": 3,
     "metadata": {},
     "output_type": "execute_result"
    }
   ],
   "source": [
    "df_companies = pd.ExcelFile(\"Stat_Pro.xlsx\")\n",
    "df_companies.sheet_names"
   ]
  },
  {
   "cell_type": "markdown",
   "metadata": {},
   "source": [
    "# Analysis on AXIS mutual funds"
   ]
  },
  {
   "cell_type": "code",
   "execution_count": 4,
   "metadata": {},
   "outputs": [
    {
     "data": {
      "text/html": [
       "<div>\n",
       "<style scoped>\n",
       "    .dataframe tbody tr th:only-of-type {\n",
       "        vertical-align: middle;\n",
       "    }\n",
       "\n",
       "    .dataframe tbody tr th {\n",
       "        vertical-align: top;\n",
       "    }\n",
       "\n",
       "    .dataframe thead th {\n",
       "        text-align: right;\n",
       "    }\n",
       "</style>\n",
       "<table border=\"1\" class=\"dataframe\">\n",
       "  <thead>\n",
       "    <tr style=\"text-align: right;\">\n",
       "      <th></th>\n",
       "      <th>Unnamed: 0</th>\n",
       "      <th>AXIS</th>\n",
       "      <th>Unnamed: 2</th>\n",
       "      <th>Unnamed: 3</th>\n",
       "      <th>Unnamed: 4</th>\n",
       "      <th>Unnamed: 5</th>\n",
       "      <th>Unnamed: 6</th>\n",
       "      <th>Unnamed: 7</th>\n",
       "      <th>Unnamed: 8</th>\n",
       "      <th>Unnamed: 9</th>\n",
       "      <th>Unnamed: 10</th>\n",
       "    </tr>\n",
       "  </thead>\n",
       "  <tbody>\n",
       "    <tr>\n",
       "      <th>0</th>\n",
       "      <td>NaN</td>\n",
       "      <td>NaN</td>\n",
       "      <td>NaN</td>\n",
       "      <td>NaN</td>\n",
       "      <td>NaN</td>\n",
       "      <td>NaN</td>\n",
       "      <td>NaN</td>\n",
       "      <td>NaN</td>\n",
       "      <td>NaN</td>\n",
       "      <td>NaN</td>\n",
       "      <td>NaN</td>\n",
       "    </tr>\n",
       "    <tr>\n",
       "      <th>1</th>\n",
       "      <td>NaN</td>\n",
       "      <td>NaN</td>\n",
       "      <td>NaN</td>\n",
       "      <td>NaN</td>\n",
       "      <td>NaN</td>\n",
       "      <td>NaN</td>\n",
       "      <td>NaN</td>\n",
       "      <td>NaN</td>\n",
       "      <td>NaN</td>\n",
       "      <td>NaN</td>\n",
       "      <td>NaN</td>\n",
       "    </tr>\n",
       "    <tr>\n",
       "      <th>2</th>\n",
       "      <td>MONTH</td>\n",
       "      <td>PRICE</td>\n",
       "      <td>RETURN(%) = ((P1-P0)/P0)*100</td>\n",
       "      <td>NaN</td>\n",
       "      <td>NaN</td>\n",
       "      <td>1+K</td>\n",
       "      <td>NaN</td>\n",
       "      <td>NaN</td>\n",
       "      <td>NaN</td>\n",
       "      <td>NaN</td>\n",
       "      <td>NaN</td>\n",
       "    </tr>\n",
       "    <tr>\n",
       "      <th>3</th>\n",
       "      <td>JANUARY</td>\n",
       "      <td>356.5</td>\n",
       "      <td>NaN</td>\n",
       "      <td>NaN</td>\n",
       "      <td>NaN</td>\n",
       "      <td>NaN</td>\n",
       "      <td>NaN</td>\n",
       "      <td>NaN</td>\n",
       "      <td>NaN</td>\n",
       "      <td>NaN</td>\n",
       "      <td>NaN</td>\n",
       "    </tr>\n",
       "    <tr>\n",
       "      <th>4</th>\n",
       "      <td>FEBRUARY</td>\n",
       "      <td>323.68</td>\n",
       "      <td>-9.206171</td>\n",
       "      <td>NaN</td>\n",
       "      <td>NaN</td>\n",
       "      <td>0.907938</td>\n",
       "      <td>NaN</td>\n",
       "      <td>NaN</td>\n",
       "      <td>NaN</td>\n",
       "      <td>NaN</td>\n",
       "      <td>NaN</td>\n",
       "    </tr>\n",
       "    <tr>\n",
       "      <th>5</th>\n",
       "      <td>MARCH</td>\n",
       "      <td>359.6</td>\n",
       "      <td>11.09738</td>\n",
       "      <td>NaN</td>\n",
       "      <td>NaN</td>\n",
       "      <td>1.110974</td>\n",
       "      <td>NaN</td>\n",
       "      <td>NaN</td>\n",
       "      <td>NaN</td>\n",
       "      <td>NaN</td>\n",
       "      <td>NaN</td>\n",
       "    </tr>\n",
       "    <tr>\n",
       "      <th>6</th>\n",
       "      <td>APRIL</td>\n",
       "      <td>347.1</td>\n",
       "      <td>-3.476085</td>\n",
       "      <td>NaN</td>\n",
       "      <td>NaN</td>\n",
       "      <td>0.965239</td>\n",
       "      <td>NaN</td>\n",
       "      <td>NaN</td>\n",
       "      <td>ARITHMETIC MEAN</td>\n",
       "      <td>NaN</td>\n",
       "      <td>0.482276</td>\n",
       "    </tr>\n",
       "    <tr>\n",
       "      <th>7</th>\n",
       "      <td>MAY</td>\n",
       "      <td>357.12</td>\n",
       "      <td>2.886776</td>\n",
       "      <td>NaN</td>\n",
       "      <td>NaN</td>\n",
       "      <td>1.028868</td>\n",
       "      <td>NaN</td>\n",
       "      <td>NaN</td>\n",
       "      <td>GEOMETRIC MEAN</td>\n",
       "      <td>NaN</td>\n",
       "      <td>NaN</td>\n",
       "    </tr>\n",
       "    <tr>\n",
       "      <th>8</th>\n",
       "      <td>JUNE</td>\n",
       "      <td>346.5</td>\n",
       "      <td>-2.97379</td>\n",
       "      <td>NaN</td>\n",
       "      <td>NaN</td>\n",
       "      <td>0.970262</td>\n",
       "      <td>NaN</td>\n",
       "      <td>NaN</td>\n",
       "      <td>NaN</td>\n",
       "      <td>NaN</td>\n",
       "      <td>1.040000</td>\n",
       "    </tr>\n",
       "    <tr>\n",
       "      <th>9</th>\n",
       "      <td>JULY</td>\n",
       "      <td>361.15</td>\n",
       "      <td>4.227994</td>\n",
       "      <td>NaN</td>\n",
       "      <td>NaN</td>\n",
       "      <td>1.04228</td>\n",
       "      <td>NaN</td>\n",
       "      <td>NaN</td>\n",
       "      <td>NaN</td>\n",
       "      <td>NaN</td>\n",
       "      <td>1.003572</td>\n",
       "    </tr>\n",
       "    <tr>\n",
       "      <th>10</th>\n",
       "      <td>AUGUST</td>\n",
       "      <td>364.56</td>\n",
       "      <td>0.944206</td>\n",
       "      <td>NaN</td>\n",
       "      <td>NaN</td>\n",
       "      <td>1.009442</td>\n",
       "      <td>NaN</td>\n",
       "      <td>NaN</td>\n",
       "      <td>NaN</td>\n",
       "      <td>NaN</td>\n",
       "      <td>0.003572</td>\n",
       "    </tr>\n",
       "    <tr>\n",
       "      <th>11</th>\n",
       "      <td>SEPTEMBER</td>\n",
       "      <td>354.3</td>\n",
       "      <td>-2.814352</td>\n",
       "      <td>NaN</td>\n",
       "      <td>NaN</td>\n",
       "      <td>0.971856</td>\n",
       "      <td>NaN</td>\n",
       "      <td>NaN</td>\n",
       "      <td>GEOMETRIC MEAN</td>\n",
       "      <td>NaN</td>\n",
       "      <td>0.357188</td>\n",
       "    </tr>\n",
       "    <tr>\n",
       "      <th>12</th>\n",
       "      <td>OCTOBER</td>\n",
       "      <td>354.3</td>\n",
       "      <td>0</td>\n",
       "      <td>NaN</td>\n",
       "      <td>NaN</td>\n",
       "      <td>1</td>\n",
       "      <td>NaN</td>\n",
       "      <td>NaN</td>\n",
       "      <td>NaN</td>\n",
       "      <td>NaN</td>\n",
       "      <td>NaN</td>\n",
       "    </tr>\n",
       "    <tr>\n",
       "      <th>13</th>\n",
       "      <td>NOVEMBER</td>\n",
       "      <td>356.7</td>\n",
       "      <td>0.677392</td>\n",
       "      <td>NaN</td>\n",
       "      <td>NaN</td>\n",
       "      <td>1.006774</td>\n",
       "      <td>NaN</td>\n",
       "      <td>NaN</td>\n",
       "      <td>NaN</td>\n",
       "      <td>NaN</td>\n",
       "      <td>NaN</td>\n",
       "    </tr>\n",
       "    <tr>\n",
       "      <th>14</th>\n",
       "      <td>DECEMBER</td>\n",
       "      <td>370.76</td>\n",
       "      <td>3.941688</td>\n",
       "      <td>NaN</td>\n",
       "      <td>NaN</td>\n",
       "      <td>1.039417</td>\n",
       "      <td>NaN</td>\n",
       "      <td>NaN</td>\n",
       "      <td>NaN</td>\n",
       "      <td>NaN</td>\n",
       "      <td>NaN</td>\n",
       "    </tr>\n",
       "  </tbody>\n",
       "</table>\n",
       "</div>"
      ],
      "text/plain": [
       "   Unnamed: 0    AXIS                    Unnamed: 2  Unnamed: 3  Unnamed: 4  \\\n",
       "0         NaN     NaN                           NaN         NaN         NaN   \n",
       "1         NaN     NaN                           NaN         NaN         NaN   \n",
       "2       MONTH   PRICE  RETURN(%) = ((P1-P0)/P0)*100         NaN         NaN   \n",
       "3     JANUARY   356.5                           NaN         NaN         NaN   \n",
       "4    FEBRUARY  323.68                     -9.206171         NaN         NaN   \n",
       "5       MARCH   359.6                      11.09738         NaN         NaN   \n",
       "6       APRIL   347.1                     -3.476085         NaN         NaN   \n",
       "7         MAY  357.12                      2.886776         NaN         NaN   \n",
       "8        JUNE   346.5                      -2.97379         NaN         NaN   \n",
       "9        JULY  361.15                      4.227994         NaN         NaN   \n",
       "10     AUGUST  364.56                      0.944206         NaN         NaN   \n",
       "11  SEPTEMBER   354.3                     -2.814352         NaN         NaN   \n",
       "12    OCTOBER   354.3                             0         NaN         NaN   \n",
       "13   NOVEMBER   356.7                      0.677392         NaN         NaN   \n",
       "14   DECEMBER  370.76                      3.941688         NaN         NaN   \n",
       "\n",
       "   Unnamed: 5  Unnamed: 6  Unnamed: 7       Unnamed: 8  Unnamed: 9  \\\n",
       "0         NaN         NaN         NaN              NaN         NaN   \n",
       "1         NaN         NaN         NaN              NaN         NaN   \n",
       "2         1+K         NaN         NaN              NaN         NaN   \n",
       "3         NaN         NaN         NaN              NaN         NaN   \n",
       "4    0.907938         NaN         NaN              NaN         NaN   \n",
       "5    1.110974         NaN         NaN              NaN         NaN   \n",
       "6    0.965239         NaN         NaN  ARITHMETIC MEAN         NaN   \n",
       "7    1.028868         NaN         NaN   GEOMETRIC MEAN         NaN   \n",
       "8    0.970262         NaN         NaN              NaN         NaN   \n",
       "9     1.04228         NaN         NaN              NaN         NaN   \n",
       "10   1.009442         NaN         NaN              NaN         NaN   \n",
       "11   0.971856         NaN         NaN   GEOMETRIC MEAN         NaN   \n",
       "12          1         NaN         NaN              NaN         NaN   \n",
       "13   1.006774         NaN         NaN              NaN         NaN   \n",
       "14   1.039417         NaN         NaN              NaN         NaN   \n",
       "\n",
       "    Unnamed: 10  \n",
       "0           NaN  \n",
       "1           NaN  \n",
       "2           NaN  \n",
       "3           NaN  \n",
       "4           NaN  \n",
       "5           NaN  \n",
       "6      0.482276  \n",
       "7           NaN  \n",
       "8      1.040000  \n",
       "9      1.003572  \n",
       "10     0.003572  \n",
       "11     0.357188  \n",
       "12          NaN  \n",
       "13          NaN  \n",
       "14          NaN  "
      ]
     },
     "execution_count": 4,
     "metadata": {},
     "output_type": "execute_result"
    }
   ],
   "source": [
    "df_axis= pd.read_excel(\"Stat_Pro.xlsx\", sheet_name=\"AXIS.\")\n",
    "df_axis"
   ]
  },
  {
   "cell_type": "code",
   "execution_count": null,
   "metadata": {},
   "outputs": [],
   "source": [
    "df_axis.rename(columns={'Unnamed: 0':'Month', 'AXIS':'nav','Unnamed: 2':'returns','Unnamed: 5':'1+k','Unnamed: 8':'means', 'Unnamed: 10':'mean values'}, inplace=True)\n",
    "print(df_axis.columns)"
   ]
  },
  {
   "cell_type": "markdown",
   "metadata": {},
   "source": [
    "- renaming headers"
   ]
  },
  {
   "cell_type": "code",
   "execution_count": null,
   "metadata": {},
   "outputs": [],
   "source": [
    "df_axis=df_axis.drop(['Unnamed: 3', 'Unnamed: 4', 'Unnamed: 6', 'Unnamed: 7','Unnamed: 9','means','mean values'], axis=1)"
   ]
  },
  {
   "cell_type": "markdown",
   "metadata": {},
   "source": [
    "- dropping unnecessary columns(cleaning data)"
   ]
  },
  {
   "cell_type": "code",
   "execution_count": null,
   "metadata": {},
   "outputs": [],
   "source": [
    "print(df_axis.to_string())"
   ]
  },
  {
   "cell_type": "code",
   "execution_count": null,
   "metadata": {},
   "outputs": [],
   "source": [
    "df_axis.shape"
   ]
  },
  {
   "cell_type": "code",
   "execution_count": null,
   "metadata": {},
   "outputs": [],
   "source": [
    "df_axis= df_axis.drop(index = [0,1,2])\n",
    "df_axis"
   ]
  },
  {
   "cell_type": "markdown",
   "metadata": {},
   "source": [
    "- The code's purpose is to remove specific rows from the DataFrame df_axis. The index values 0, 1, and 2 correspond to rows that are being dropped. This could be done for various reasons, such as data cleaning, removing outliers, or excluding specific entries from the analysis. The code then displays the modified DataFrame, showing the result after the specified rows have been removed."
   ]
  },
  {
   "cell_type": "code",
   "execution_count": null,
   "metadata": {},
   "outputs": [],
   "source": [
    "df_axis.head()"
   ]
  },
  {
   "cell_type": "code",
   "execution_count": null,
   "metadata": {},
   "outputs": [],
   "source": [
    "df_axis.tail()"
   ]
  },
  {
   "cell_type": "code",
   "execution_count": null,
   "metadata": {},
   "outputs": [],
   "source": [
    "df_axis.shape #shape of the dataset"
   ]
  },
  {
   "cell_type": "markdown",
   "metadata": {},
   "source": [
    "- The provided code is aimed at exploring and understanding the structure and content of the DataFrame df_axis."
   ]
  },
  {
   "cell_type": "code",
   "execution_count": null,
   "metadata": {},
   "outputs": [],
   "source": [
    "df_axis.columns #display columns name of the dataset"
   ]
  },
  {
   "cell_type": "code",
   "execution_count": null,
   "metadata": {},
   "outputs": [],
   "source": [
    "df_axis.info()"
   ]
  },
  {
   "cell_type": "markdown",
   "metadata": {},
   "source": [
    "- the provided code is focused on obtaining valuable information about the DataFrame df_axis. \n",
    "- Using columns, you can identify the column names, and using info(), you can gather detailed information about data types and non-null values. These operations aid in gaining insights into the composition and quality of the dataset."
   ]
  },
  {
   "cell_type": "code",
   "execution_count": null,
   "metadata": {},
   "outputs": [],
   "source": [
    "sb.pairplot(df_axis)\n",
    "plt.show()"
   ]
  },
  {
   "cell_type": "code",
   "execution_count": null,
   "metadata": {},
   "outputs": [],
   "source": [
    "df_axis['returns'].plot(kind = \"bar\",color = 'black')  #bar graph for returns"
   ]
  },
  {
   "cell_type": "code",
   "execution_count": null,
   "metadata": {},
   "outputs": [],
   "source": [
    "df_axis['returns'].plot(kind = \"barh\",color = 'black') #column chart for returns"
   ]
  },
  {
   "cell_type": "code",
   "execution_count": null,
   "metadata": {},
   "outputs": [],
   "source": [
    "df_axis['returns'].plot(kind = \"hist\",color = 'black')\n",
    "plt.show()"
   ]
  },
  {
   "cell_type": "code",
   "execution_count": null,
   "metadata": {},
   "outputs": [],
   "source": [
    "df_axis['returns'].plot(kind = \"kde\",color = 'black') #kde plot for return values\n",
    "plt.show()"
   ]
  },
  {
   "cell_type": "code",
   "execution_count": null,
   "metadata": {},
   "outputs": [],
   "source": [
    "sb.scatterplot(df_axis['returns'], color='black')"
   ]
  },
  {
   "cell_type": "code",
   "execution_count": null,
   "metadata": {},
   "outputs": [],
   "source": [
    "df_axis['returns'].plot(color='black')\n",
    "plt.show()"
   ]
  },
  {
   "cell_type": "markdown",
   "metadata": {},
   "source": [
    "- The provided code involves using Seaborn and Matplotlib to create various types of plots based on the 'returns' column of the DataFrame df_axis.\n",
    "- It showcases different ways of visualizing the distribution and characteristics of the 'returns' column in the DataFrame df_axis. It includes pair plots, bar graphs, horizontal bar charts, histograms, and KDE plots. \n",
    "- Each type of plot offers insights into different aspects of the return values of the mutual funds. These visualizations are essential for understanding the data's distribution and identifying potential patterns, outliers, or trends related to the returns."
   ]
  },
  {
   "cell_type": "code",
   "execution_count": null,
   "metadata": {},
   "outputs": [],
   "source": [
    "df_axis.describe()"
   ]
  },
  {
   "cell_type": "code",
   "execution_count": null,
   "metadata": {},
   "outputs": [],
   "source": [
    "df_axis['returns'].min() #minimum return value"
   ]
  },
  {
   "cell_type": "code",
   "execution_count": null,
   "metadata": {},
   "outputs": [],
   "source": [
    "df_axis['returns'].max() #maximum return value"
   ]
  },
  {
   "cell_type": "code",
   "execution_count": null,
   "metadata": {},
   "outputs": [],
   "source": [
    "df_axis['returns'].mean() #mean of the returns"
   ]
  },
  {
   "cell_type": "code",
   "execution_count": null,
   "metadata": {},
   "outputs": [],
   "source": [
    "df_axis['returns'].median() #median of the returns"
   ]
  },
  {
   "cell_type": "code",
   "execution_count": null,
   "metadata": {},
   "outputs": [],
   "source": [
    "df_axis['returns'].std() # standard deviation of the returns"
   ]
  },
  {
   "cell_type": "markdown",
   "metadata": {},
   "source": [
    "- In summary, the provided code is performing basic statistical analysis on the 'returns' column of the 'df_axis' DataFrame, which contains mutual fund return data. \n",
    "- It calculates and displays statistics such as minimum, maximum, and mean returns, offering insights into the performance of the mutual funds in terms of their returns. \n",
    "- However, it's important to note that these analyses are just preliminary and should be part of a more comprehensive analysis to draw meaningful conclusions about the mutual funds' performance.\n",
    "\n",
    "\n",
    "\n",
    "\n"
   ]
  },
  {
   "cell_type": "code",
   "execution_count": null,
   "metadata": {},
   "outputs": [],
   "source": [
    "axis_sorted_returns = df_axis['returns'].sort_values()\n",
    "axis_sorted_returns\n"
   ]
  },
  {
   "cell_type": "code",
   "execution_count": null,
   "metadata": {},
   "outputs": [],
   "source": [
    "df_axis.to_excel('axis_output.xlsx',index=False)"
   ]
  },
  {
   "cell_type": "markdown",
   "metadata": {},
   "source": [
    "- The provided code snippet demonstrates a couple of operations:\n",
    "- The first operation sorts the values in the 'returns' column of the DataFrame df_axis in ascending order and stores the sorted values in the variable axis_sorted_returns. This sorted data might be useful for further analysis or visualization.\n",
    "- The second operation saves the entire DataFrame df_axis (including all columns) to an Excel file named 'axis_output.xlsx'. The data will be saved in tabular format within the Excel file, and the index column will be excluded from the saved data.\n",
    "- Overall, the code performs data manipulation and export operations, which can be valuable for organizing and sharing the analysis results with others."
   ]
  },
  {
   "cell_type": "markdown",
   "metadata": {},
   "source": [
    "# Analysis on HDFC mutual funds"
   ]
  },
  {
   "cell_type": "code",
   "execution_count": null,
   "metadata": {},
   "outputs": [],
   "source": [
    "df_hdfc= pd.read_excel(\"Stat_Pro.xlsx\", sheet_name=\"HDFC.\")\n",
    "df_hdfc"
   ]
  },
  {
   "cell_type": "code",
   "execution_count": null,
   "metadata": {},
   "outputs": [],
   "source": [
    "df_hdfc.rename(columns={'Unnamed: 0':'Month', 'Unnamed: 1':'nav','HDFC':'returns','Unnamed: 5':'1+k'}, inplace=True)\n",
    "print(df_hdfc.columns)"
   ]
  },
  {
   "cell_type": "code",
   "execution_count": null,
   "metadata": {},
   "outputs": [],
   "source": [
    "df_hdfc=df_hdfc.drop(['Unnamed: 3', 'Unnamed: 4', 'Unnamed: 6', 'Unnamed: 7','Unnamed: 8','Unnamed: 9','Unnamed: 10'], axis=1)"
   ]
  },
  {
   "cell_type": "code",
   "execution_count": null,
   "metadata": {},
   "outputs": [],
   "source": [
    "df_hdfc=df_hdfc.drop(index=[0,1,2])\n",
    "df_hdfc"
   ]
  },
  {
   "cell_type": "markdown",
   "metadata": {},
   "source": [
    "- Here we performed several operations to clean and modify the DataFrame df_hdfc using different methods :\n",
    "\n",
    "- It renames specific columns to more meaningful names using the rename() method.\n",
    "- It prints the column names after the renaming operation.\n",
    "- It drops specific columns ('Unnamed: 3', 'Unnamed: 4', 'Unnamed: 6', 'Unnamed: 7', 'Unnamed: 8', 'Unnamed: 9', 'Unnamed: 10') using the drop() method and the axis=1 argument.\n",
    "- It drops specific rows with index values 0, 1, and 2 using the drop() method.\n",
    "- Finally, it displays the modified DataFrame df_hdfc.\n",
    "- These operations suggest that the code is preparing and cleaning the df_hdfc DataFrame by renaming columns, removing unnecessary columns and rows, and ensuring the DataFrame is in a suitable format for analysis.\n"
   ]
  },
  {
   "cell_type": "code",
   "execution_count": null,
   "metadata": {},
   "outputs": [],
   "source": [
    "df_hdfc.head()"
   ]
  },
  {
   "cell_type": "code",
   "execution_count": null,
   "metadata": {},
   "outputs": [],
   "source": [
    "df_hdfc.tail()"
   ]
  },
  {
   "cell_type": "code",
   "execution_count": null,
   "metadata": {},
   "outputs": [],
   "source": [
    "df_hdfc.shape"
   ]
  },
  {
   "cell_type": "markdown",
   "metadata": {},
   "source": [
    "- By using the shape attribute, this code provides information about the dimensions of the DataFrame df_hdfc. The first value of the tuple represents the number of rows, and the second value represents the number of columns."
   ]
  },
  {
   "cell_type": "code",
   "execution_count": null,
   "metadata": {},
   "outputs": [],
   "source": [
    "sb.pairplot(df_hdfc)\n",
    "plt.show()"
   ]
  },
  {
   "cell_type": "code",
   "execution_count": null,
   "metadata": {},
   "outputs": [],
   "source": [
    "df_hdfc['returns'].plot(kind='bar',color='green')\n",
    "plt.show()"
   ]
  },
  {
   "cell_type": "code",
   "execution_count": null,
   "metadata": {},
   "outputs": [],
   "source": [
    "df_hdfc['returns'].plot(kind='barh',color='green')\n",
    "plt.show()"
   ]
  },
  {
   "cell_type": "code",
   "execution_count": null,
   "metadata": {},
   "outputs": [],
   "source": [
    "df_hdfc['returns'].plot(kind='hist',color='green')\n",
    "plt.show()"
   ]
  },
  {
   "cell_type": "code",
   "execution_count": null,
   "metadata": {},
   "outputs": [],
   "source": [
    "df_hdfc['returns'].plot(kind='kde',color='green')\n",
    "plt.show()"
   ]
  },
  {
   "cell_type": "code",
   "execution_count": null,
   "metadata": {},
   "outputs": [],
   "source": [
    "sb.scatterplot(df_hdfc['returns'], color='green')"
   ]
  },
  {
   "cell_type": "code",
   "execution_count": null,
   "metadata": {},
   "outputs": [],
   "source": [
    "df_hdfc['returns'].plot(color='green')\n",
    "plt.show()"
   ]
  },
  {
   "cell_type": "markdown",
   "metadata": {},
   "source": [
    "- Here we demonstrated the creation of various visualizations for the 'returns' column of the DataFrame df_hdfc. \n",
    "- These visualizations include pair plots, bar graphs, horizontal bar charts, histograms, KDE plots, scatter plots, and a line plot. \n",
    "- Each visualization serves a different purpose in exploring and understanding the distribution and characteristics of the return values of mutual funds in the dataset."
   ]
  },
  {
   "cell_type": "code",
   "execution_count": null,
   "metadata": {},
   "outputs": [],
   "source": [
    "df_hdfc.mean()"
   ]
  },
  {
   "cell_type": "code",
   "execution_count": null,
   "metadata": {},
   "outputs": [],
   "source": [
    "df_hdfc.median()"
   ]
  },
  {
   "cell_type": "code",
   "execution_count": null,
   "metadata": {},
   "outputs": [],
   "source": [
    "df_hdfc['returns'].min()"
   ]
  },
  {
   "cell_type": "code",
   "execution_count": null,
   "metadata": {},
   "outputs": [],
   "source": [
    "df_hdfc['returns'].max()"
   ]
  },
  {
   "cell_type": "markdown",
   "metadata": {},
   "source": [
    "- In summary, the provided code is performing basic statistical analysis on the 'returns' column of the 'df_ hdfc' DataFrame, which contains mutual fund return data of HDFC company. \n",
    "- It calculates and displays statistics such as minimum, maximum, and mean returns, offering insights into the performance of the mutual funds in terms of their returns. \n"
   ]
  },
  {
   "cell_type": "code",
   "execution_count": null,
   "metadata": {},
   "outputs": [],
   "source": [
    "hdfc_sorted_returns = df_hdfc['returns'].sort_values()\n",
    "hdfc_sorted_returns"
   ]
  },
  {
   "cell_type": "code",
   "execution_count": null,
   "metadata": {},
   "outputs": [],
   "source": [
    "df_hdfc.to_excel('hdfc_output.xlsx',index=False)"
   ]
  },
  {
   "cell_type": "code",
   "execution_count": null,
   "metadata": {},
   "outputs": [],
   "source": [
    "df_icici= pd.read_excel(\"Stat_Pro.xlsx\", sheet_name=\"ICICI.\")\n",
    "df_icici"
   ]
  },
  {
   "cell_type": "code",
   "execution_count": null,
   "metadata": {},
   "outputs": [],
   "source": [
    "df_icici.columns"
   ]
  },
  {
   "cell_type": "code",
   "execution_count": null,
   "metadata": {},
   "outputs": [],
   "source": [
    "df_icici.rename(columns={'Unnamed: 0':'Month', 'Unnamed: 1':'nav','ICICI':'returns','Unnamed: 5':'1+k'}, inplace=True)\n",
    "print(df_icici.columns)"
   ]
  },
  {
   "cell_type": "code",
   "execution_count": null,
   "metadata": {},
   "outputs": [],
   "source": [
    "df_icici=df_icici.drop(['Unnamed: 3', 'Unnamed: 4', 'Unnamed: 6', 'Unnamed: 7','Unnamed: 8','Unnamed: 9','Unnamed: 10'], axis=1)\n",
    "df_icici"
   ]
  },
  {
   "cell_type": "code",
   "execution_count": null,
   "metadata": {},
   "outputs": [],
   "source": [
    "df_icici=df_icici.drop([0,1,2])\n",
    "df_icici"
   ]
  },
  {
   "cell_type": "code",
   "execution_count": null,
   "metadata": {},
   "outputs": [],
   "source": [
    "df_icici.head()"
   ]
  },
  {
   "cell_type": "code",
   "execution_count": null,
   "metadata": {},
   "outputs": [],
   "source": [
    "df_icici.tail()"
   ]
  },
  {
   "cell_type": "code",
   "execution_count": null,
   "metadata": {},
   "outputs": [],
   "source": [
    "df_icici.shape"
   ]
  },
  {
   "cell_type": "code",
   "execution_count": null,
   "metadata": {},
   "outputs": [],
   "source": [
    "sb.pairplot(df_icici)\n",
    "plt.show()"
   ]
  },
  {
   "cell_type": "code",
   "execution_count": null,
   "metadata": {},
   "outputs": [],
   "source": [
    "df_icici['returns'].plot(kind='bar',color='yellow')\n",
    "plt.show()"
   ]
  },
  {
   "cell_type": "code",
   "execution_count": null,
   "metadata": {},
   "outputs": [],
   "source": [
    "df_icici['returns'].plot(kind='barh',color='yellow')\n",
    "plt.show()"
   ]
  },
  {
   "cell_type": "code",
   "execution_count": null,
   "metadata": {},
   "outputs": [],
   "source": [
    "df_icici['returns'].plot(kind='hist',color='yellow')\n",
    "plt.show()"
   ]
  },
  {
   "cell_type": "code",
   "execution_count": null,
   "metadata": {},
   "outputs": [],
   "source": [
    "df_icici['returns'].plot(kind='kde',color='yellow')\n",
    "plt.show()"
   ]
  },
  {
   "cell_type": "code",
   "execution_count": null,
   "metadata": {},
   "outputs": [],
   "source": [
    "df_icici['returns'].plot(color='yellow')\n",
    "plt.show()"
   ]
  },
  {
   "cell_type": "code",
   "execution_count": null,
   "metadata": {},
   "outputs": [],
   "source": [
    "sb.scatterplot(df_icici['returns'], color='yellow')"
   ]
  },
  {
   "cell_type": "code",
   "execution_count": null,
   "metadata": {},
   "outputs": [],
   "source": [
    "df_icici['returns'].min()"
   ]
  },
  {
   "cell_type": "code",
   "execution_count": null,
   "metadata": {},
   "outputs": [],
   "source": [
    "df_icici['returns'].max()"
   ]
  },
  {
   "cell_type": "code",
   "execution_count": null,
   "metadata": {},
   "outputs": [],
   "source": [
    "df_icici['returns'].mean()"
   ]
  },
  {
   "cell_type": "code",
   "execution_count": null,
   "metadata": {},
   "outputs": [],
   "source": [
    "df_icici['returns'].median()"
   ]
  },
  {
   "cell_type": "code",
   "execution_count": null,
   "metadata": {},
   "outputs": [],
   "source": [
    "df_icici['returns'].std()"
   ]
  },
  {
   "cell_type": "markdown",
   "metadata": {},
   "source": [
    "- In summary, the provided code is performing basic statistical analysis on the 'returns' column of the 'df_ icici' DataFrame, which contains mutual fund return data of ICICI company. \n",
    "- It calculates and displays statistics such as minimum, maximum, and mean returns, offering insights into the performance of the mutual funds in terms of their returns. \n"
   ]
  },
  {
   "cell_type": "code",
   "execution_count": null,
   "metadata": {},
   "outputs": [],
   "source": [
    "icici_sorted_returns = df_icici['returns'].sort_values()\n",
    "icici_sorted_returns"
   ]
  },
  {
   "cell_type": "code",
   "execution_count": null,
   "metadata": {},
   "outputs": [],
   "source": [
    "df_icici.to_excel('icici_output.xlsx',index=False)"
   ]
  },
  {
   "cell_type": "code",
   "execution_count": null,
   "metadata": {},
   "outputs": [],
   "source": [
    "df_sbi= pd.read_excel(\"Stat_Pro.xlsx\", sheet_name=\"SBI.\")\n",
    "df_sbi"
   ]
  },
  {
   "cell_type": "code",
   "execution_count": null,
   "metadata": {},
   "outputs": [],
   "source": [
    "df_sbi.head()"
   ]
  },
  {
   "cell_type": "code",
   "execution_count": null,
   "metadata": {},
   "outputs": [],
   "source": [
    "df_sbi.columns"
   ]
  },
  {
   "cell_type": "code",
   "execution_count": null,
   "metadata": {},
   "outputs": [],
   "source": [
    "df_sbi.rename(columns={'Unnamed: 0':'Month', 'Unnamed: 1':'nav','SBI':'returns','Unnamed: 5':'1+k'}, inplace=True)\n",
    "print(df_sbi.columns)"
   ]
  },
  {
   "cell_type": "code",
   "execution_count": null,
   "metadata": {},
   "outputs": [],
   "source": [
    "df_sbi=df_sbi.drop(['Unnamed: 3', 'Unnamed: 4', 'Unnamed: 6', 'Unnamed: 7','Unnamed: 8','Unnamed: 9','Unnamed: 10'], axis=1)\n",
    "df_sbi"
   ]
  },
  {
   "cell_type": "code",
   "execution_count": null,
   "metadata": {},
   "outputs": [],
   "source": [
    "df_sbi=df_sbi.drop([0,1,2])\n",
    "df_sbi"
   ]
  },
  {
   "cell_type": "code",
   "execution_count": null,
   "metadata": {},
   "outputs": [],
   "source": [
    "df_sbi.head()"
   ]
  },
  {
   "cell_type": "code",
   "execution_count": null,
   "metadata": {},
   "outputs": [],
   "source": [
    "df_sbi.tail()"
   ]
  },
  {
   "cell_type": "code",
   "execution_count": null,
   "metadata": {},
   "outputs": [],
   "source": [
    "df_sbi.shape"
   ]
  },
  {
   "cell_type": "code",
   "execution_count": null,
   "metadata": {},
   "outputs": [],
   "source": [
    "sb.pairplot(df_sbi)\n",
    "plt.show()"
   ]
  },
  {
   "cell_type": "code",
   "execution_count": null,
   "metadata": {},
   "outputs": [],
   "source": [
    "df_sbi['returns'].plot(kind='bar',color='pink')\n",
    "plt.show()"
   ]
  },
  {
   "cell_type": "code",
   "execution_count": null,
   "metadata": {},
   "outputs": [],
   "source": [
    "df_sbi['returns'].plot(kind='barh',color='pink')\n",
    "plt.show()"
   ]
  },
  {
   "cell_type": "code",
   "execution_count": null,
   "metadata": {},
   "outputs": [],
   "source": [
    "df_sbi['returns'].plot(kind='kde',color='pink')\n",
    "plt.show()"
   ]
  },
  {
   "cell_type": "code",
   "execution_count": null,
   "metadata": {},
   "outputs": [],
   "source": [
    "df_sbi['returns'].plot(kind='hist',color='pink')\n",
    "plt.show()"
   ]
  },
  {
   "cell_type": "code",
   "execution_count": null,
   "metadata": {},
   "outputs": [],
   "source": [
    "df_sbi['returns'].plot(color='pink')\n",
    "plt.show()"
   ]
  },
  {
   "cell_type": "code",
   "execution_count": null,
   "metadata": {},
   "outputs": [],
   "source": [
    "sb.scatterplot(df_sbi['returns'], color='pink')"
   ]
  },
  {
   "cell_type": "code",
   "execution_count": null,
   "metadata": {},
   "outputs": [],
   "source": [
    "df_sbi['returns'].min()"
   ]
  },
  {
   "cell_type": "code",
   "execution_count": null,
   "metadata": {},
   "outputs": [],
   "source": [
    "df_sbi['returns'].max()"
   ]
  },
  {
   "cell_type": "code",
   "execution_count": null,
   "metadata": {},
   "outputs": [],
   "source": [
    "df_sbi['returns'].mean()"
   ]
  },
  {
   "cell_type": "code",
   "execution_count": null,
   "metadata": {},
   "outputs": [],
   "source": [
    "df_sbi['returns'].median()"
   ]
  },
  {
   "cell_type": "code",
   "execution_count": null,
   "metadata": {},
   "outputs": [],
   "source": [
    "df_sbi['returns'].std()"
   ]
  },
  {
   "cell_type": "markdown",
   "metadata": {},
   "source": [
    "- In summary, the provided code is performing basic statistical analysis on the 'returns' column of the 'df_ sbi' DataFrame, which contains mutual fund return data of SBI company. \n",
    "- It calculates and displays statistics such as minimum, maximum, and mean returns, offering insights into the performance of the mutual funds in terms of their returns. \n"
   ]
  },
  {
   "cell_type": "code",
   "execution_count": null,
   "metadata": {},
   "outputs": [],
   "source": [
    "sbi_sorted_returns = df_sbi['returns'].sort_values()\n",
    "sbi_sorted_returns"
   ]
  },
  {
   "cell_type": "code",
   "execution_count": null,
   "metadata": {},
   "outputs": [],
   "source": [
    "df_sbi.to_excel('sbi_output.xlsx',index=False)"
   ]
  },
  {
   "cell_type": "code",
   "execution_count": null,
   "metadata": {},
   "outputs": [],
   "source": [
    "df_boi= pd.read_excel(\"Stat_Pro.xlsx\", sheet_name=\"BOI.\" )\n",
    "df_boi"
   ]
  },
  {
   "cell_type": "code",
   "execution_count": null,
   "metadata": {},
   "outputs": [],
   "source": [
    "df_boi.head()"
   ]
  },
  {
   "cell_type": "code",
   "execution_count": null,
   "metadata": {},
   "outputs": [],
   "source": [
    "df_boi.columns"
   ]
  },
  {
   "cell_type": "code",
   "execution_count": null,
   "metadata": {},
   "outputs": [],
   "source": [
    "df_boi.rename(columns={'Unnamed: 0':'Month', 'Unnamed: 1':'nav','BOI':'returns','Unnamed: 5':'1+k'}, inplace=True)\n",
    "print(df_boi.columns)"
   ]
  },
  {
   "cell_type": "code",
   "execution_count": null,
   "metadata": {},
   "outputs": [],
   "source": [
    "df_boi=df_boi.drop(['Unnamed: 3', 'Unnamed: 4', 'Unnamed: 6', 'Unnamed: 7','Unnamed: 8','Unnamed: 9','Unnamed: 10'], axis=1)\n",
    "df_boi"
   ]
  },
  {
   "cell_type": "code",
   "execution_count": null,
   "metadata": {},
   "outputs": [],
   "source": [
    "df_boi=df_boi.drop(index=[0,1,2])\n",
    "df_boi"
   ]
  },
  {
   "cell_type": "code",
   "execution_count": null,
   "metadata": {},
   "outputs": [],
   "source": [
    "df_boi.head()"
   ]
  },
  {
   "cell_type": "code",
   "execution_count": null,
   "metadata": {},
   "outputs": [],
   "source": [
    "df_boi.tail()"
   ]
  },
  {
   "cell_type": "code",
   "execution_count": null,
   "metadata": {},
   "outputs": [],
   "source": [
    "df_boi.shape"
   ]
  },
  {
   "cell_type": "code",
   "execution_count": null,
   "metadata": {},
   "outputs": [],
   "source": [
    "df_boi['returns'].plot(kind='bar')\n",
    "plt.show()"
   ]
  },
  {
   "cell_type": "code",
   "execution_count": null,
   "metadata": {},
   "outputs": [],
   "source": [
    "df_boi['returns'].plot(kind='barh')\n",
    "plt.show()"
   ]
  },
  {
   "cell_type": "code",
   "execution_count": null,
   "metadata": {},
   "outputs": [],
   "source": [
    "df_boi['returns'].plot(kind='hist')\n",
    "plt.show()"
   ]
  },
  {
   "cell_type": "code",
   "execution_count": null,
   "metadata": {},
   "outputs": [],
   "source": [
    "df_boi['returns'].plot(kind='kde')\n",
    "plt.show()"
   ]
  },
  {
   "cell_type": "code",
   "execution_count": null,
   "metadata": {},
   "outputs": [],
   "source": [
    "df_boi['returns'].plot()\n",
    "plt.show()"
   ]
  },
  {
   "cell_type": "code",
   "execution_count": null,
   "metadata": {},
   "outputs": [],
   "source": [
    "sb.scatterplot(df_boi['returns'])"
   ]
  },
  {
   "cell_type": "code",
   "execution_count": null,
   "metadata": {},
   "outputs": [],
   "source": [
    "df_boi['returns'].min()"
   ]
  },
  {
   "cell_type": "code",
   "execution_count": null,
   "metadata": {},
   "outputs": [],
   "source": [
    "df_boi['returns'].max()"
   ]
  },
  {
   "cell_type": "code",
   "execution_count": null,
   "metadata": {},
   "outputs": [],
   "source": [
    "df_boi['returns'].mean()"
   ]
  },
  {
   "cell_type": "code",
   "execution_count": null,
   "metadata": {},
   "outputs": [],
   "source": [
    "df_boi['returns'].median()"
   ]
  },
  {
   "cell_type": "code",
   "execution_count": null,
   "metadata": {},
   "outputs": [],
   "source": [
    "df_boi['returns'].std()"
   ]
  },
  {
   "cell_type": "markdown",
   "metadata": {},
   "source": [
    "- In summary, the provided code is performing basic statistical analysis on the 'returns' column of the 'df_ boi' DataFrame, which contains mutual fund return data. \n",
    "- It calculates and displays statistics such as minimum, maximum, and mean returns, offering insights into the performance of the mutual funds in terms of their returns. \n"
   ]
  },
  {
   "cell_type": "code",
   "execution_count": null,
   "metadata": {},
   "outputs": [],
   "source": [
    "boi_sorted_returns = df_boi['returns'].sort_values()\n",
    "boi_sorted_returns"
   ]
  },
  {
   "cell_type": "code",
   "execution_count": null,
   "metadata": {},
   "outputs": [],
   "source": [
    "df_boi.to_excel('boi_output.xlsx',index=False)"
   ]
  },
  {
   "cell_type": "code",
   "execution_count": null,
   "metadata": {},
   "outputs": [],
   "source": [
    "df_all_companies = pd.concat([df_axis,df_hdfc,df_icici,df_sbi,df_boi],ignore_index=1)\n",
    "df_all_companies.transpose"
   ]
  },
  {
   "cell_type": "code",
   "execution_count": null,
   "metadata": {},
   "outputs": [],
   "source": []
  }
 ],
 "metadata": {
  "kernelspec": {
   "display_name": "Python 3",
   "language": "python",
   "name": "python3"
  },
  "language_info": {
   "codemirror_mode": {
    "name": "ipython",
    "version": 3
   },
   "file_extension": ".py",
   "mimetype": "text/x-python",
   "name": "python",
   "nbconvert_exporter": "python",
   "pygments_lexer": "ipython3",
   "version": "3.10.9"
  },
  "orig_nbformat": 4
 },
 "nbformat": 4,
 "nbformat_minor": 2
}
